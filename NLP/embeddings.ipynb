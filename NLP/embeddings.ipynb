{
 "cells": [
  {
   "cell_type": "code",
   "execution_count": 1,
   "metadata": {},
   "outputs": [],
   "source": [
    "import tensorflow as tf\n",
    "import tensorflow.keras.layers as ly\n",
    "import tensorflow_datasets as tfds\n",
    "from tensorflow.keras.models import Sequential \n",
    "tfds.disable_progress_bar()"
   ]
  },
  {
   "cell_type": "code",
   "execution_count": 2,
   "metadata": {},
   "outputs": [],
   "source": [
    "embedding_layer = ly.Embedding(1000, 5)"
   ]
  },
  {
   "cell_type": "markdown",
   "metadata": {},
   "source": [
    "Warstwę Embedding (Osadzanie) można rozumieć jako tabelę wyszukiwania, która mapuje z liczb całkowitych\n",
    "(tutaj jakieś słowa) od wektorów Dense (ich embeddingi). Wymiarowanie (lub szerokość) embeddingu jest parametrem z którym trzeba eksperymentwać, aby sprawdzić, co działa dobrze w konkretnym przypadku, podobnie jak eksperymentuje się z liczbą neuronów w warstwie Dense."
   ]
  },
  {
   "cell_type": "code",
   "execution_count": 4,
   "metadata": {},
   "outputs": [
    {
     "data": {
      "text/plain": [
       "array([[ 0.00385623, -0.00091951,  0.02418509, -0.0091805 ,  0.03494379],\n",
       "       [ 0.01489735,  0.02064275,  0.04539413, -0.02298254,  0.0055915 ],\n",
       "       [-0.00100106,  0.01644837, -0.0251384 , -0.01172367,  0.03717365]],\n",
       "      dtype=float32)"
      ]
     },
     "execution_count": 4,
     "metadata": {},
     "output_type": "execute_result"
    }
   ],
   "source": [
    "result = embedding_layer(tf.constant([1, 2, 3]))\n",
    "result.numpy()"
   ]
  },
  {
   "cell_type": "markdown",
   "metadata": {},
   "source": [
    "Podczas tworzenia warstwy Embedding wagi są randomowo inicjowane (tak jak kazda inna warstwa). Podczas treningu są stopniowo dostosowywane poprzez backpropagation. Po treningu, embeddingowane słowa będą w przybliżeniu kodować podobieństwa miedzy słowami.\n",
    "Jeśli przekaże się liczbę całkowitą do warstwy Embedding, wynik zamienia każdą liczbę całkowitą na wektor z tabeli embedding (tak jak to widać wyżej)"
   ]
  },
  {
   "cell_type": "code",
   "execution_count": 5,
   "metadata": {},
   "outputs": [
    {
     "name": "stderr",
     "output_type": "stream",
     "text": [
      "WARNING:absl:TFDS datasets with text encoding are deprecated and will be removed in a future version. Instead, you should use the plain text version and tokenize the text using `tensorflow_text` (See: https://www.tensorflow.org/tutorials/tensorflow_text/intro#tfdata_example)\n"
     ]
    }
   ],
   "source": [
    "(train_data, test_data), info = tfds.load(\"imdb_reviews/subwords8k\", \n",
    "                                            split=(tfds.Split.TRAIN, tfds.Split.TEST),\n",
    "                                            with_info=True, as_supervised=True)"
   ]
  },
  {
   "cell_type": "code",
   "execution_count": 6,
   "metadata": {},
   "outputs": [
    {
     "data": {
      "text/plain": [
       "['the_',\n",
       " ', ',\n",
       " '. ',\n",
       " 'a_',\n",
       " 'and_',\n",
       " 'of_',\n",
       " 'to_',\n",
       " 's_',\n",
       " 'is_',\n",
       " 'br',\n",
       " 'in_',\n",
       " 'I_',\n",
       " 'that_',\n",
       " 'this_',\n",
       " 'it_',\n",
       " ' /><',\n",
       " ' />',\n",
       " 'was_',\n",
       " 'The_',\n",
       " 'as_']"
      ]
     },
     "execution_count": 6,
     "metadata": {},
     "output_type": "execute_result"
    }
   ],
   "source": [
    "encoder = info.features['text'].encoder\n",
    "encoder.subwords[:20]"
   ]
  },
  {
   "cell_type": "markdown",
   "metadata": {},
   "source": [
    "`padded_batch` - standarylizuje długość reviews"
   ]
  },
  {
   "cell_type": "code",
   "execution_count": 13,
   "metadata": {},
   "outputs": [],
   "source": [
    "train_batches = train_data.shuffle(1000).padded_batch(10)\n",
    "test_batches = test_data.shuffle(1000).padded_batch(10)"
   ]
  },
  {
   "cell_type": "code",
   "execution_count": 15,
   "metadata": {},
   "outputs": [
    {
     "data": {
      "text/plain": [
       "array([[8025,  147,    1, ...,    0,    0,    0],\n",
       "       [7915, 7961,   80, ...,    0,    0,    0],\n",
       "       [ 274,    4,   74, ...,    0,    0,    0],\n",
       "       ...,\n",
       "       [ 373,    6,    1, ...,    0,    0,    0],\n",
       "       [ 775, 1069,   34, ...,   63,  166, 7962],\n",
       "       [2016,  145,  110, ...,    0,    0,    0]], dtype=int64)"
      ]
     },
     "execution_count": 15,
     "metadata": {},
     "output_type": "execute_result"
    }
   ],
   "source": [
    "train_batch, train_labels = next(iter(train_batches))\n",
    "train_batch.numpy()"
   ]
  },
  {
   "cell_type": "code",
   "execution_count": 16,
   "metadata": {},
   "outputs": [
    {
     "name": "stdout",
     "output_type": "stream",
     "text": [
      "Model: \"sequential\"\n",
      "_________________________________________________________________\n",
      "Layer (type)                 Output Shape              Param #   \n",
      "=================================================================\n",
      "embedding_1 (Embedding)      (None, None, 16)          130960    \n",
      "_________________________________________________________________\n",
      "global_average_pooling1d (Gl (None, 16)                0         \n",
      "_________________________________________________________________\n",
      "dense (Dense)                (None, 16)                272       \n",
      "_________________________________________________________________\n",
      "dense_1 (Dense)              (None, 1)                 17        \n",
      "=================================================================\n",
      "Total params: 131,249\n",
      "Trainable params: 131,249\n",
      "Non-trainable params: 0\n",
      "_________________________________________________________________\n"
     ]
    }
   ],
   "source": [
    "embedding_dim = 16\n",
    "\n",
    "model = Sequential([\n",
    "    ly.Embedding(encoder.vocab_size, embedding_dim),\n",
    "    ly.GlobalAveragePooling1D(),\n",
    "    ly.Dense(16, activation=\"relu\"),\n",
    "    ly.Dense(1)\n",
    "])\n",
    "\n",
    "model.summary()"
   ]
  },
  {
   "cell_type": "code",
   "execution_count": 18,
   "metadata": {},
   "outputs": [
    {
     "name": "stdout",
     "output_type": "stream",
     "text": [
      "Epoch 1/10\n",
      "2500/2500 [==============================] - 19s 8ms/step - loss: 0.5346 - accuracy: 0.6745 - val_loss: 0.4311 - val_accuracy: 0.7900\n",
      "Epoch 2/10\n",
      "2500/2500 [==============================] - 16s 7ms/step - loss: 0.2947 - accuracy: 0.8774 - val_loss: 0.3503 - val_accuracy: 0.8200\n",
      "Epoch 3/10\n",
      "2500/2500 [==============================] - 16s 6ms/step - loss: 0.2382 - accuracy: 0.9052 - val_loss: 0.3685 - val_accuracy: 0.8450\n",
      "Epoch 4/10\n",
      "2500/2500 [==============================] - 16s 6ms/step - loss: 0.2031 - accuracy: 0.9223 - val_loss: 0.4088 - val_accuracy: 0.8350\n",
      "Epoch 5/10\n",
      "2500/2500 [==============================] - 16s 6ms/step - loss: 0.1817 - accuracy: 0.9306 - val_loss: 0.4736 - val_accuracy: 0.8300\n",
      "Epoch 6/10\n",
      "2500/2500 [==============================] - 16s 6ms/step - loss: 0.1646 - accuracy: 0.9390 - val_loss: 0.3810 - val_accuracy: 0.8450\n",
      "Epoch 7/10\n",
      "2500/2500 [==============================] - 16s 6ms/step - loss: 0.1461 - accuracy: 0.9472 - val_loss: 0.4707 - val_accuracy: 0.8150\n",
      "Epoch 8/10\n",
      "2500/2500 [==============================] - 17s 7ms/step - loss: 0.1368 - accuracy: 0.9520 - val_loss: 0.4316 - val_accuracy: 0.8400\n",
      "Epoch 9/10\n",
      "2500/2500 [==============================] - 17s 7ms/step - loss: 0.1238 - accuracy: 0.9564 - val_loss: 0.5089 - val_accuracy: 0.8150\n",
      "Epoch 10/10\n",
      "2500/2500 [==============================] - 16s 6ms/step - loss: 0.1138 - accuracy: 0.9599 - val_loss: 0.5222 - val_accuracy: 0.8750\n"
     ]
    }
   ],
   "source": [
    "model.compile(optimizer=\"adam\", loss=tf.keras.losses.BinaryCrossentropy(from_logits=True), metrics=[\"accuracy\"])\n",
    "\n",
    "history = model.fit(train_batches, epochs=10, validation_data=test_batches, validation_steps=20)"
   ]
  },
  {
   "cell_type": "code",
   "execution_count": 19,
   "metadata": {},
   "outputs": [
    {
     "data": {
      "image/png": "[encoded data removed]",
      "text/plain": [
       "<Figure size 864x648 with 1 Axes>"
      ]
     },
     "metadata": {
      "needs_background": "light"
     },
     "output_type": "display_data"
    }
   ],
   "source": [
    "import matplotlib.pyplot as plt\n",
    "\n",
    "epochs = range(1, len(history.history[\"accuracy\"])+1)\n",
    "\n",
    "plt.figure(figsize=(12, 9))\n",
    "plt.plot(epochs, history.history['loss'], 'bo', label=\"Training loss\")\n",
    "plt.plot(epochs, history.history['val_loss'], 'b', label=\"Validation loss\")\n",
    "plt.title('Training and validatin loss')\n",
    "plt.xlabel('Epochs')\n",
    "plt.ylabel('Loss')\n",
    "plt.legend()\n",
    "plt.show()"
   ]
  },
  {
   "cell_type": "code",
   "execution_count": 20,
   "metadata": {},
   "outputs": [
    {
     "data": {
      "image/png": "[encoded data removed]",
      "text/plain": [
       "<Figure size 864x648 with 1 Axes>"
      ]
     },
     "metadata": {
      "needs_background": "light"
     },
     "output_type": "display_data"
    }
   ],
   "source": [
    "plt.figure(figsize=(12, 9))\n",
    "plt.plot(epochs, history.history['accuracy'], 'bo', label=\"Training acc\")\n",
    "plt.plot(epochs, history.history['val_accuracy'], 'b', label=\"Validation acc\")\n",
    "plt.title('Training and validatin accuracy')\n",
    "plt.xlabel('Epochs')\n",
    "plt.ylabel('Accuracy')\n",
    "plt.legend()\n",
    "plt.show()"
   ]
  },
  {
   "cell_type": "markdown",
   "metadata": {},
   "source": [
    "# RETRIEVING THE LEARNED EMBEDDINGS"
   ]
  },
  {
   "cell_type": "code",
   "execution_count": 22,
   "metadata": {},
   "outputs": [
    {
     "name": "stdout",
     "output_type": "stream",
     "text": [
      "(8185, 16)\n"
     ]
    }
   ],
   "source": [
    "e = model.layers[0]\n",
    "weights = e.get_weights()[0]\n",
    "print(weights.shape)"
   ]
  },
  {
   "cell_type": "code",
   "execution_count": 25,
   "metadata": {},
   "outputs": [],
   "source": [
    "import io\n",
    "\n",
    "encoder = info.features['text'].encoder\n",
    "\n",
    "v = io.open('vecs.tsv', 'w', encoding='utf-8')\n",
    "m = io.open('meta.tsv', 'w', encoding='utf-8')"
   ]
  },
  {
   "cell_type": "code",
   "execution_count": 26,
   "metadata": {},
   "outputs": [],
   "source": [
    "for num, word in enumerate(encoder.subwords):\n",
    "    vec = weights[num+1]\n",
    "    m.write(word + \"\\n\")\n",
    "    v.write('\\t'.join([str(x) for x in vec]) + \"\\n\")\n",
    "v.close()\n",
    "m.close()"
   ]
  },
  {
   "cell_type": "code",
   "execution_count": null,
   "metadata": {},
   "outputs": [],
   "source": []
  }
 ],
 "metadata": {
  "kernelspec": {
   "display_name": "Python 3",
   "language": "python",
   "name": "python3"
  },
  "language_info": {
   "codemirror_mode": {
    "name": "ipython",
    "version": 3
   },
   "file_extension": ".py",
   "mimetype": "text/x-python",
   "name": "python",
   "nbconvert_exporter": "python",
   "pygments_lexer": "ipython3",
   "version": "3.7.6"
  }
 },
 "nbformat": 4,
 "nbformat_minor": 4
}
