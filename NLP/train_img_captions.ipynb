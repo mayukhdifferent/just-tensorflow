{
 "cells": [
  {
   "cell_type": "code",
   "execution_count": 1,
   "metadata": {},
   "outputs": [],
   "source": [
    "import numpy as np\n",
    "import os\n",
    "import tensorflow as tf\n",
    "import pickle"
   ]
  },
  {
   "cell_type": "code",
   "execution_count": 2,
   "metadata": {},
   "outputs": [],
   "source": [
    "features = pickle.load(open(\"features.p\", \"rb\"))"
   ]
  },
  {
   "cell_type": "code",
   "execution_count": 3,
   "metadata": {},
   "outputs": [],
   "source": [
    "filename = \"data\\\\flickr8k\\\\text\\\\Flickr_8k.trainimages.txt\"\n",
    "\n",
    "with open(filename, \"r\") as f:\n",
    "    train_imgs = f.read()\n",
    "    train_imgs = train_imgs.split(\"\\n\")[:-1]"
   ]
  },
  {
   "cell_type": "code",
   "execution_count": 12,
   "metadata": {},
   "outputs": [],
   "source": [
    "with open(\"descriptions.txt\", \"r\") as f:\n",
    "    data = f.read()"
   ]
  },
  {
   "cell_type": "code",
   "execution_count": null,
   "metadata": {},
   "outputs": [],
   "source": [
    "data = data.split(\"\\n\")"
   ]
  },
  {
   "cell_type": "code",
   "execution_count": 15,
   "metadata": {},
   "outputs": [
    {
     "name": "stdout",
     "output_type": "stream",
     "text": [
      "['1000268201_693b08cb0e.jpg']\n"
     ]
    }
   ],
   "source": [
    "train_descriptions = []\n",
    "for line in data:\n",
    "    words = line.split()\n",
    "    print(words)\n",
    "    break\n",
    "    if len(words) < 1:\n",
    "        continue\n",
    "    img, img_caption = words[0], words[1:]\n",
    "    print(img, img_caption)\n",
    "    break\n",
    "    if img in train_imgs:\n",
    "        if img not in train_descriptions:\n",
    "            train_descriptions[img] = []\n",
    "        desc = f\"<start> \" + ' '.join(img_caption) + \" <end>\"\n",
    "        train_descriptions[image].append(desc)"
   ]
  },
  {
   "cell_type": "code",
   "execution_count": null,
   "metadata": {},
   "outputs": [],
   "source": [
    "train_features = {}\n",
    "features = [f:features[k] for k in train_imgs]"
   ]
  },
  {
   "cell_type": "code",
   "execution_count": null,
   "metadata": {},
   "outputs": [],
   "source": []
  }
 ],
 "metadata": {
  "kernelspec": {
   "display_name": "Python 3",
   "language": "python",
   "name": "python3"
  },
  "language_info": {
   "codemirror_mode": {
    "name": "ipython",
    "version": 3
   },
   "file_extension": ".py",
   "mimetype": "text/x-python",
   "name": "python",
   "nbconvert_exporter": "python",
   "pygments_lexer": "ipython3",
   "version": "3.7.6"
  }
 },
 "nbformat": 4,
 "nbformat_minor": 4
}
