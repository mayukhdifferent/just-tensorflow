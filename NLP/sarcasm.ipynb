{
 "cells": [
  {
   "cell_type": "code",
   "execution_count": 42,
   "metadata": {},
   "outputs": [],
   "source": [
    "import json\n",
    "\n",
    "data = []\n",
    "with open('sarcasm/Sarcasm_Headlines_Dataset_v2.json', \"r\") as f:\n",
    "    for line in f:\n",
    "        data.append(json.loads(line))"
   ]
  },
  {
   "cell_type": "code",
   "execution_count": 43,
   "metadata": {},
   "outputs": [],
   "source": [
    "sentences  =   []\n",
    "labels     =   []\n",
    "urls       =   []\n",
    "for item in data:\n",
    "    sentences.append(item['headline'])\n",
    "    labels.append(item['is_sarcastic'])\n",
    "    urls.append(item['article_link'])"
   ]
  },
  {
   "cell_type": "code",
   "execution_count": 44,
   "metadata": {},
   "outputs": [],
   "source": [
    "from tensorflow.keras.preprocessing.text import Tokenizer\n",
    "from tensorflow.keras.preprocessing.sequence import pad_sequences\n",
    "\n",
    "tokenizer = Tokenizer(oov_token= \"<00V>\")\n",
    "tokenizer.fit_on_texts(sentences)\n",
    "word_index = tokenizer.word_index"
   ]
  },
  {
   "cell_type": "code",
   "execution_count": 45,
   "metadata": {},
   "outputs": [
    {
     "name": "stdout",
     "output_type": "stream",
     "text": [
      "[16004   355  3167  7474  2644     3   661  1119     0     0     0     0\n",
      "     0     0     0     0     0     0     0     0     0     0     0     0\n",
      "     0     0     0     0     0     0     0     0     0     0     0     0\n",
      "     0     0     0     0     0     0     0     0     0     0     0     0\n",
      "     0     0     0     0     0     0     0     0     0     0     0     0\n",
      "     0     0     0     0     0     0     0     0     0     0     0     0\n",
      "     0     0     0     0     0     0     0     0     0     0     0     0\n",
      "     0     0     0     0     0     0     0     0     0     0     0     0\n",
      "     0     0     0     0     0     0     0     0     0     0     0     0\n",
      "     0     0     0     0     0     0     0     0     0     0     0     0\n",
      "     0     0     0     0     0     0     0     0     0     0     0     0\n",
      "     0     0     0     0     0     0     0     0     0     0     0     0\n",
      "     0     0     0     0     0     0     0     0]\n",
      "(28619, 152)\n"
     ]
    }
   ],
   "source": [
    "sequences = tokenizer.texts_to_sequences(sentences)\n",
    "padded = pad_sequences(sequences, padding=\"post\")\n",
    "print(padded[0])\n",
    "print(padded.shape)"
   ]
  },
  {
   "cell_type": "code",
   "execution_count": 46,
   "metadata": {},
   "outputs": [],
   "source": [
    "train_size = 20000\n",
    "\n",
    "train_sen  = sentences[0:train_size]\n",
    "test_sen   = sentences[train_size:]\n",
    "\n",
    "train_labels  = labels[0:train_size]\n",
    "test_labels   = labels[train_size:]"
   ]
  },
  {
   "cell_type": "code",
   "execution_count": 47,
   "metadata": {},
   "outputs": [],
   "source": [
    "tokenizer = Tokenizer(num_words=10000, oov_token=\"<00V>\")\n",
    "tokenizer.fit_on_texts(train_sen)\n",
    "\n",
    "word_index = tokenizer.word_index"
   ]
  },
  {
   "cell_type": "code",
   "execution_count": 48,
   "metadata": {},
   "outputs": [],
   "source": [
    "train_seq = tokenizer.texts_to_sequences(train_sen)\n",
    "train_pad = pad_sequences(train_seq, maxlen=100, padding=\"post\", truncating=\"post\")\n",
    "\n",
    "test_seq = tokenizer.texts_to_sequences(test_sen)\n",
    "test_pad = pad_sequences(test_seq, maxlen=100, padding=\"post\", truncating=\"post\")"
   ]
  },
  {
   "cell_type": "code",
   "execution_count": 49,
   "metadata": {},
   "outputs": [],
   "source": [
    "from tensorflow.keras import layers as ly\n",
    "from tensorflow.keras.models import Sequential"
   ]
  },
  {
   "cell_type": "code",
   "execution_count": 50,
   "metadata": {},
   "outputs": [],
   "source": [
    "model = Sequential([\n",
    "    ly.Embedding(10000, 16, input_length=100),\n",
    "    ly.GlobalAveragePooling1D(),\n",
    "    ly.Dense(24, activation=\"relu\"),\n",
    "    ly.Dense(1, activation=\"sigmoid\")\n",
    "])\n",
    "model.compile(loss=\"binary_crossentropy\", optimizer=\"adam\", metrics=[\"accuracy\"])"
   ]
  },
  {
   "cell_type": "code",
   "execution_count": 51,
   "metadata": {},
   "outputs": [
    {
     "name": "stdout",
     "output_type": "stream",
     "text": [
      "Model: \"sequential_1\"\n",
      "_________________________________________________________________\n",
      "Layer (type)                 Output Shape              Param #   \n",
      "=================================================================\n",
      "embedding_1 (Embedding)      (None, 100, 16)           160000    \n",
      "_________________________________________________________________\n",
      "global_average_pooling1d_1 ( (None, 16)                0         \n",
      "_________________________________________________________________\n",
      "dense_2 (Dense)              (None, 24)                408       \n",
      "_________________________________________________________________\n",
      "dense_3 (Dense)              (None, 1)                 25        \n",
      "=================================================================\n",
      "Total params: 160,433\n",
      "Trainable params: 160,433\n",
      "Non-trainable params: 0\n",
      "_________________________________________________________________\n"
     ]
    }
   ],
   "source": [
    "model.summary()"
   ]
  },
  {
   "cell_type": "code",
   "execution_count": 52,
   "metadata": {},
   "outputs": [],
   "source": [
    "import numpy as np\n",
    "\n",
    "train_pad = np.array(train_pad)\n",
    "train_labels = np.array(train_labels)\n",
    "\n",
    "test_pad = np.array(test_pad)\n",
    "test_labels = np.array(test_labels)"
   ]
  },
  {
   "cell_type": "code",
   "execution_count": 53,
   "metadata": {},
   "outputs": [
    {
     "name": "stdout",
     "output_type": "stream",
     "text": [
      "Epoch 1/30\n",
      "625/625 - 4s - loss: 0.6750 - accuracy: 0.5901 - val_loss: 0.5989 - val_accuracy: 0.8072\n",
      "Epoch 2/30\n",
      "625/625 - 4s - loss: 0.4511 - accuracy: 0.8270 - val_loss: 0.3845 - val_accuracy: 0.8370\n",
      "Epoch 3/30\n",
      "625/625 - 4s - loss: 0.3242 - accuracy: 0.8712 - val_loss: 0.3484 - val_accuracy: 0.8496\n",
      "Epoch 4/30\n",
      "625/625 - 4s - loss: 0.2733 - accuracy: 0.8943 - val_loss: 0.3316 - val_accuracy: 0.8569\n",
      "Epoch 5/30\n",
      "625/625 - 4s - loss: 0.2381 - accuracy: 0.9081 - val_loss: 0.3316 - val_accuracy: 0.8539\n",
      "Epoch 6/30\n",
      "625/625 - 4s - loss: 0.2123 - accuracy: 0.9208 - val_loss: 0.3410 - val_accuracy: 0.8484\n",
      "Epoch 7/30\n",
      "625/625 - 4s - loss: 0.1895 - accuracy: 0.9293 - val_loss: 0.3421 - val_accuracy: 0.8515\n",
      "Epoch 8/30\n",
      "625/625 - 4s - loss: 0.1713 - accuracy: 0.9363 - val_loss: 0.3502 - val_accuracy: 0.8517\n",
      "Epoch 9/30\n",
      "625/625 - 4s - loss: 0.1556 - accuracy: 0.9446 - val_loss: 0.3625 - val_accuracy: 0.8511\n",
      "Epoch 10/30\n",
      "625/625 - 4s - loss: 0.1423 - accuracy: 0.9495 - val_loss: 0.3775 - val_accuracy: 0.8481\n",
      "Epoch 11/30\n",
      "625/625 - 4s - loss: 0.1303 - accuracy: 0.9548 - val_loss: 0.3945 - val_accuracy: 0.8453\n",
      "Epoch 12/30\n",
      "625/625 - 5s - loss: 0.1204 - accuracy: 0.9587 - val_loss: 0.4132 - val_accuracy: 0.8419\n",
      "Epoch 13/30\n",
      "625/625 - 6s - loss: 0.1096 - accuracy: 0.9631 - val_loss: 0.4517 - val_accuracy: 0.8346\n",
      "Epoch 14/30\n",
      "625/625 - 4s - loss: 0.1021 - accuracy: 0.9659 - val_loss: 0.4575 - val_accuracy: 0.8348\n",
      "Epoch 15/30\n",
      "625/625 - 4s - loss: 0.0939 - accuracy: 0.9704 - val_loss: 0.4806 - val_accuracy: 0.8339\n",
      "Epoch 16/30\n",
      "625/625 - 4s - loss: 0.0865 - accuracy: 0.9722 - val_loss: 0.5095 - val_accuracy: 0.8320\n",
      "Epoch 17/30\n",
      "625/625 - 4s - loss: 0.0810 - accuracy: 0.9735 - val_loss: 0.5498 - val_accuracy: 0.8260\n",
      "Epoch 18/30\n",
      "625/625 - 4s - loss: 0.0762 - accuracy: 0.9754 - val_loss: 0.5632 - val_accuracy: 0.8253\n",
      "Epoch 19/30\n",
      "625/625 - 4s - loss: 0.0695 - accuracy: 0.9787 - val_loss: 0.5932 - val_accuracy: 0.8239\n",
      "Epoch 20/30\n",
      "625/625 - 4s - loss: 0.0655 - accuracy: 0.9800 - val_loss: 0.6214 - val_accuracy: 0.8223\n",
      "Epoch 21/30\n",
      "625/625 - 4s - loss: 0.0601 - accuracy: 0.9812 - val_loss: 0.6483 - val_accuracy: 0.8206\n",
      "Epoch 22/30\n",
      "625/625 - 5s - loss: 0.0554 - accuracy: 0.9840 - val_loss: 0.6855 - val_accuracy: 0.8187\n",
      "Epoch 23/30\n",
      "625/625 - 4s - loss: 0.0522 - accuracy: 0.9840 - val_loss: 0.7110 - val_accuracy: 0.8195\n",
      "Epoch 24/30\n",
      "625/625 - 4s - loss: 0.0483 - accuracy: 0.9862 - val_loss: 0.7393 - val_accuracy: 0.8175\n",
      "Epoch 25/30\n",
      "625/625 - 4s - loss: 0.0449 - accuracy: 0.9876 - val_loss: 0.7857 - val_accuracy: 0.8134\n",
      "Epoch 26/30\n",
      "625/625 - 4s - loss: 0.0430 - accuracy: 0.9879 - val_loss: 0.8044 - val_accuracy: 0.8162\n",
      "Epoch 27/30\n",
      "625/625 - 4s - loss: 0.0382 - accuracy: 0.9904 - val_loss: 0.8394 - val_accuracy: 0.8126\n",
      "Epoch 28/30\n",
      "625/625 - 4s - loss: 0.0358 - accuracy: 0.9901 - val_loss: 0.8901 - val_accuracy: 0.8098\n",
      "Epoch 29/30\n",
      "625/625 - 4s - loss: 0.0340 - accuracy: 0.9904 - val_loss: 0.9422 - val_accuracy: 0.8087\n",
      "Epoch 30/30\n",
      "625/625 - 4s - loss: 0.0318 - accuracy: 0.9916 - val_loss: 0.9481 - val_accuracy: 0.8104\n"
     ]
    }
   ],
   "source": [
    "history = model.fit(train_pad, train_labels, epochs=30, validation_data=(test_pad, test_labels), verbose=2)"
   ]
  },
  {
   "cell_type": "code",
   "execution_count": 54,
   "metadata": {},
   "outputs": [],
   "source": [
    "import matplotlib.pyplot as plt"
   ]
  },
  {
   "cell_type": "code",
   "execution_count": 55,
   "metadata": {},
   "outputs": [
    {
     "data": {
      "image/png": "[encoded data removed]",
      "text/plain": [
       "<Figure size 432x288 with 1 Axes>"
      ]
     },
     "metadata": {
      "needs_background": "light"
     },
     "output_type": "display_data"
    }
   ],
   "source": [
    "plt.plot(history.history[\"accuracy\"])\n",
    "plt.plot(history.history[\"val_accuracy\"])\n",
    "plt.xlabel(\"epochs\")\n",
    "plt.ylabel(\"accuracy\")\n",
    "plt.legend([\"accuracy\", \"val_accuracy\"])\n",
    "plt.show()"
   ]
  },
  {
   "cell_type": "code",
   "execution_count": 56,
   "metadata": {},
   "outputs": [
    {
     "data": {
      "image/png": "[encoded data removed]",
      "text/plain": [
       "<Figure size 432x288 with 1 Axes>"
      ]
     },
     "metadata": {
      "needs_background": "light"
     },
     "output_type": "display_data"
    }
   ],
   "source": [
    "plt.plot(history.history[\"loss\"])\n",
    "plt.plot(history.history[\"val_loss\"])\n",
    "plt.xlabel(\"epochs\")\n",
    "plt.ylabel(\"loss\")\n",
    "plt.legend([\"loss\", \"val_loss\"])\n",
    "plt.show()"
   ]
  },
  {
   "cell_type": "code",
   "execution_count": null,
   "metadata": {},
   "outputs": [],
   "source": []
  }
 ],
 "metadata": {
  "kernelspec": {
   "display_name": "Python 3",
   "language": "python",
   "name": "python3"
  },
  "language_info": {
   "codemirror_mode": {
    "name": "ipython",
    "version": 3
   },
   "file_extension": ".py",
   "mimetype": "text/x-python",
   "name": "python",
   "nbconvert_exporter": "python",
   "pygments_lexer": "ipython3",
   "version": "3.7.6"
  }
 },
 "nbformat": 4,
 "nbformat_minor": 4
}
