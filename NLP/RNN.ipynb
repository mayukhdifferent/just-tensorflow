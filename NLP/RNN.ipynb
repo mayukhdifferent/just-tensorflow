{
 "cells": [
  {
   "cell_type": "code",
   "execution_count": 2,
   "metadata": {},
   "outputs": [],
   "source": [
    "import tensorflow as tf\n",
    "import numpy as np\n",
    "import os\n",
    "import matplotlib.pyplot as plt\n",
    "import tensorflow_datasets as tfds"
   ]
  },
  {
   "cell_type": "code",
   "execution_count": 3,
   "metadata": {},
   "outputs": [
    {
     "name": "stdout",
     "output_type": "stream",
     "text": [
      "\u001b[1mDownloading and preparing dataset imdb_reviews/plain_text/1.0.0 (download: 80.23 MiB, generated: Unknown size, total: 80.23 MiB) to C:\\Users\\Weronika\\tensorflow_datasets\\imdb_reviews\\plain_text\\1.0.0...\u001b[0m\n"
     ]
    },
    {
     "data": {
      "application/vnd.jupyter.widget-view+json": {
       "model_id": "aa515809bb204ebdb5d30c926e84e540",
       "version_major": 2,
       "version_minor": 0
      },
      "text/plain": [
       "HBox(children=(FloatProgress(value=1.0, bar_style='info', description='Dl Completed...', max=1.0, style=Progre…"
      ]
     },
     "metadata": {},
     "output_type": "display_data"
    },
    {
     "data": {
      "application/vnd.jupyter.widget-view+json": {
       "model_id": "d722ea60e30c4fde89a6106006885b94",
       "version_major": 2,
       "version_minor": 0
      },
      "text/plain": [
       "HBox(children=(FloatProgress(value=1.0, bar_style='info', description='Dl Size...', max=1.0, style=ProgressSty…"
      ]
     },
     "metadata": {},
     "output_type": "display_data"
    },
    {
     "name": "stdout",
     "output_type": "stream",
     "text": [
      "\n",
      "\n",
      "\n",
      "\n"
     ]
    },
    {
     "data": {
      "application/vnd.jupyter.widget-view+json": {
       "model_id": "",
       "version_major": 2,
       "version_minor": 0
      },
      "text/plain": [
       "HBox(children=(FloatProgress(value=1.0, bar_style='info', max=1.0), HTML(value='')))"
      ]
     },
     "metadata": {},
     "output_type": "display_data"
    },
    {
     "name": "stdout",
     "output_type": "stream",
     "text": [
      "\r",
      "Shuffling and writing examples to C:\\Users\\Weronika\\tensorflow_datasets\\imdb_reviews\\plain_text\\1.0.0.incompleteQIK3FN\\imdb_reviews-train.tfrecord\n"
     ]
    },
    {
     "data": {
      "application/vnd.jupyter.widget-view+json": {
       "model_id": "80fd771a5021410f94337a09e7377f91",
       "version_major": 2,
       "version_minor": 0
      },
      "text/plain": [
       "HBox(children=(FloatProgress(value=0.0, max=25000.0), HTML(value='')))"
      ]
     },
     "metadata": {},
     "output_type": "display_data"
    },
    {
     "name": "stdout",
     "output_type": "stream",
     "text": [
      "\r"
     ]
    },
    {
     "data": {
      "application/vnd.jupyter.widget-view+json": {
       "model_id": "",
       "version_major": 2,
       "version_minor": 0
      },
      "text/plain": [
       "HBox(children=(FloatProgress(value=1.0, bar_style='info', max=1.0), HTML(value='')))"
      ]
     },
     "metadata": {},
     "output_type": "display_data"
    },
    {
     "name": "stdout",
     "output_type": "stream",
     "text": [
      "\r",
      "Shuffling and writing examples to C:\\Users\\Weronika\\tensorflow_datasets\\imdb_reviews\\plain_text\\1.0.0.incompleteQIK3FN\\imdb_reviews-test.tfrecord\n"
     ]
    },
    {
     "data": {
      "application/vnd.jupyter.widget-view+json": {
       "model_id": "64e5b15bace04fa5b5a1368cc2995175",
       "version_major": 2,
       "version_minor": 0
      },
      "text/plain": [
       "HBox(children=(FloatProgress(value=0.0, max=25000.0), HTML(value='')))"
      ]
     },
     "metadata": {},
     "output_type": "display_data"
    },
    {
     "name": "stdout",
     "output_type": "stream",
     "text": [
      "\r"
     ]
    },
    {
     "data": {
      "application/vnd.jupyter.widget-view+json": {
       "model_id": "",
       "version_major": 2,
       "version_minor": 0
      },
      "text/plain": [
       "HBox(children=(FloatProgress(value=1.0, bar_style='info', max=1.0), HTML(value='')))"
      ]
     },
     "metadata": {},
     "output_type": "display_data"
    },
    {
     "name": "stdout",
     "output_type": "stream",
     "text": [
      "\r",
      "Shuffling and writing examples to C:\\Users\\Weronika\\tensorflow_datasets\\imdb_reviews\\plain_text\\1.0.0.incompleteQIK3FN\\imdb_reviews-unsupervised.tfrecord\n"
     ]
    },
    {
     "data": {
      "application/vnd.jupyter.widget-view+json": {
       "model_id": "eef79d05199a464c85f40a51eb6ce7c6",
       "version_major": 2,
       "version_minor": 0
      },
      "text/plain": [
       "HBox(children=(FloatProgress(value=0.0, max=50000.0), HTML(value='')))"
      ]
     },
     "metadata": {},
     "output_type": "display_data"
    },
    {
     "name": "stdout",
     "output_type": "stream",
     "text": [
      "\u001b[1mDataset imdb_reviews downloaded and prepared to C:\\Users\\Weronika\\tensorflow_datasets\\imdb_reviews\\plain_text\\1.0.0. Subsequent calls will reuse this data.\u001b[0m\n"
     ]
    }
   ],
   "source": [
    "train, test = tfds.load(name=\"imdb_reviews\", split=[\"train\", \"test\"], batch_size=-1, as_supervised=True)\n",
    "\n",
    "train_x, train_y = tfds.as_numpy(train)\n",
    "test_x, train_y = tfds.as_numpy(test)"
   ]
  },
  {
   "cell_type": "code",
   "execution_count": 4,
   "metadata": {},
   "outputs": [
    {
     "data": {
      "text/plain": [
       "array([b'This is a big step down after the surprisingly enjoyable original. This sequel isn\\'t nearly as fun as part one, and it instead spends too much time on plot development. Tim Thomerson is still the best thing about this series, but his wisecracking is toned down in this entry. The performances are all adequate, but this time the script lets us down. The action is merely routine and the plot is only mildly interesting, so I need lots of silly laughs in order to stay entertained during a \"Trancers\" movie. Unfortunately, the laughs are few and far between, and so, this film is watchable at best.',\n",
       "       b\"Perhaps because I was so young, innocent and BRAINWASHED when I saw it, this movie was the cause of many sleepless nights for me. I haven't seen it since I was in seventh grade at a Presbyterian school, so I am not sure what effect it would have on me now. However, I will say that it left an impression on me... and most of my friends. It did serve its purpose, at least until we were old enough and knowledgeable enough to analyze and create our own opinions. I was particularly terrified of what the newly-converted post-rapture Christians had to endure when not receiving the mark of the beast. I don't want to spoil the movie for those who haven't seen it so I will not mention details of the scenes, but I can still picture them in my head... and it's been 19 years.\",\n",
       "       b'Hood of the Living Dead had a lot to live up to even before the opening credits began. First, any play on \"...of the living dead\" invokes His Holiness Mr. Romero and instantly sets up a high standard to which many movies cannot afford to aspire. And second, my movie-watching companion professed doubt that any urban horror film would surpass the seminal Leprechaun In the Hood. Skeptical, we settled in to watch. <br /><br />We were rewarded with a surprisingly sincere and good-hearted zombie film. Oh, certainly the budget is low, and of course the directors\\' amateurs friends populate the cast, but Hood of the Living Dead loves zombie cinema. Cheap? Yeah. But when it\\'s this cheap, you can clearly see where LOVE holds it together. <br /><br />Ricky works in a lab during the day and as a surrogate parent to his younger brother at night. He dreams of moving out of Oakland. Before this planned escape, however, his brother is shot to death in a drive-by. Ricky\\'s keen scientific mind presents an option superior to CPR or 911: injections of his lab\\'s experimental regenerative formula. Sadly, little bro wakes up in an ambulance as a bloodthirsty Oakland zombie! Chaos and mayhem! I think it\\'s more economical to eat your enemies than take vengeance in a drive-by, but then again, I\\'m a poor judge of the complexities of urban life. (How poor a judge? In response to a gory scene involving four men, I opined \"Ah-ha! White t-shirts on everyone so the blood shows up. Economical! I used the same technique in my own low-budget horror film.\" Jordan replied, \"No, that\\'s gang dress. White t-shirts were banned from New Orleans bars for a time as a result.\" Oh.)<br /><br />A lot of the movie is set in someone\\'s living room, so there\\'s a great deal of hanging out and waiting for the zombies. But the characters are sympathetic and the movie is sincere-- it surpasses its budget in spirit. <br /><br />Zombie explanation: When man plays God, zombies arise! Or, perhaps: Follow FDA-approved testing rules before human experimentation! <br /><br />Contribution to the zombie canon: This is the first zombie movie I\\'ve seen with a drive-by shooting. As far as the actual zombies go, infection is spread with a bite as usual, but quite unusually head shots don\\'t work-- it\\'s heart shots that kill. Zombies have pulses, the absence of which proves true death. And these zombies make pretty cool jaguar-growl noises. <br /><br />Gratuitous zombie movie in-joke: A mercenary named Romero. Groan. <br /><br />Favorite zombie: Jaguar-noise little brother zombie, of course!',\n",
       "       b\"For me this is a story that starts with some funny jokes regarding Franks fanatasies when he is travelling with a staircase and when he is sitting in business meetings... The problem is that when you have been watching this movie for an hour you will see the same fantasies/funny situations again and again and again. It is to predictable. It is more done as a TV story where you can go away and come back without missing anything.<br /><br />I like Felix Herngren as Frank but that is not enough even when it is a comedy it has to have more variations and some kind of message to it's audience....<br /><br />\",\n",
       "       b'This is not a bad movie. It follows the new conventions of modern horror, that is the movie within a movie, the well known actress running for her life in the first scene. This movie takes the old convention of a psycho killer on he loose, and manage to do something new, and interesting with it. It is also always nice to see Molly Ringwald back for the attack.<br /><br />So this might be an example of what the genre has become. Cut hits all the marks, and is actually scary in some parts. I liked it I gave it an eight.',\n",
       "       b\"I just finished a marathon of this series, and it became agonising to watch as it progressed. From the fictionalising of the historical elements, to O'Herlihy's awful accent in later episodes, the show just slumps the further it goes. If you are looking for some low quality production generalised WW2 fluff, then I could recommend season 1, but avoid anything after that, it degenerates into being one step from a soap opera, with increasingly worse story lines and sensibility.<br /><br />The old B&W film is by far the best of any form of entertainment with the Colditz name attached to it, and even that is not what one could hope for.\",\n",
       "       b'I am very sorry that this charming and whimsical film (which I first saw soon after it was first released in the early fifties) has had such a poor reception more recently. In my opinion it has been greatly underrated - but perhaps it appeals more to the European sense of humour than to (for example) the American: maybe we in Europe can understand and appreciate its subtleties and situations more, since we are closer to some of them in real life! Particular mention should be made of the limited but good music - especially the catchy and memorable song \"It\\'s a fine, fine night\", which was issued separately on an HMV 78rpm record (10 inch plum label, I think!) in the fifties. I would urge anyone interested to give it a try if you get the chance: you may have a pleasant surprise.',\n",
       "       b\"Well i am going to go against the grain on this film so it seems. Being a self confessed horror fan I sat down to this not quite knowing what to expect. After 2 or 3 mins i actually found myself scared (quite rare). The film obviously has a small budget and is set around charing cross station but the films lack of money does not distract from the story. Yes the story is a bit far fetched and doesn't explain itself very well but THE CREEP is a class act and proceeds to slash and dismember anything that comes its way. MESSAGE FOR LADIES !!! THERE ARE CERTAIN PARTS OF THE FILM YOU SHOULD CLOSE YOUR EYES AT OR AT LEAST CROSS YOUR LEGS !! you will understand when you see it.<br /><br />All in all a good film and it makes a change to see a good slasher movie that actually scares\",\n",
       "       b'Even 15 years after the end of the Vietnam war \"Jacknife\" came not too late or was even superfluous. It\\'s one of the few that try to deal with the second sad side of the war: The time after. Different from movies like \"Taxi driver\" or \"Rambo\" which use to present their main characters as broken heroes in a bad after war environment this movie allows the audience to face a different view on the Vietnam vets. Their development is shown very precisely before and especially after the war. The problems are obvious but in all this tragic there is always the feeling of some hope on the basis of love and friendship. \"Jacknife\" might be the quietest Vietnam movie ever but after almost 15 years this is really plausible and therefor justified. Moreover, it can make us believe that the war has not finished, yet; at least for some of us.<br /><br />The three main characters are amazing. De Niro has done one of his best jobs but Ed Harris is the star of this movie. Possibly,this was his best performance ever.',\n",
       "       b'Before I explain the \"Alias\" comment let me say that \"The Desert Trail\" is bad even by the standards of westerns staring The Three Stooges. In fact it features Carmen Laroux as semi- bad girl Juanita, when you hear her Mexican accent you will immediately recognize her as Senorita Rita from the classic Stooge short \"Saved by the Belle\". <br /><br />In \"The Desert Trail\" John Wayne gets to play the Moe Howard character and Eddy Chandler gets to play Curly Howard. Like their Stooge counterparts a running gag throughout the 53- minute movie is Moe hitting Curly. Wayne\\'s character, a skirt chasing bully, is not very endearing, but is supposed to be the good guy. <br /><br />Playing a traveling rodeo cowboy Wayne holds up the rodeo box office at gunpoint and takes the prize money he would have won if the attendance proceeds had been good-the other riders have to settle for 25 cents on the dollar (actually even less after Wayne robs the box office). No explanation is given for Wayne\\'s ripping off the riders and still being considered the hero who gets the girl. <br /><br />Things get complicated at this point because the villain (Al Ferguson) and his sidekick Larry Fine (played by Paul Fix-who would go on to play Sheriff Micah on television\\'s \"The Rifleman\") see Wayne rob the box office and then steal the remainder of the money and kill the rodeo manager. Moe and Curly get blamed. <br /><br />So Moe and Curly move to another town to get away from the law and they change their names to Smith and Jones. Who do they meet first but their old friend Larry, whose sister becomes the 2nd half love interest (Senorita Rita is left behind it the old town and makes no further appearances in the movie). <br /><br />Larry\\'s sister is nicely played by a radiantly beautiful Mary Kornman (now grown up but in her younger days she was one of the original cast members of Hal Roach\\'s \"Our Gang\" shorts). Kornman is the main reason to watch the mega-lame western and her scenes with Moe and Curly are much better than any others in the production, as if they used an entirely different crew to film them. <br /><br />Even for 1935 the action sequences in this thing are extremely weak and the technical film- making is staggeringly bad. The two main chase scenes end with stock footage wide shots of a rider falling from a horse. Both times the editor cuts to a shot of one of the characters rolling on the ground, but there is no horse in the frame, the film stock is completely different, and the character has on different clothes than the stunt rider. There is liberal use of stock footage in other places, none of it even remotely convincing. <br /><br />One thing to watch for is a scene midway into the movie where Moe and Curly get on their horses and ride away (to screen right) from a cabin as the posse is galloping toward the cabin from the left. The cameraman follows the two stooges with a slow pan right and then does a whip pan to the left to reveal the approaching posse. Outside of home movies I have never seen anything like this, not because it is looks stupid (which it does) but because a competent director would never stage a scene in this manner. They would film the two riders leaving and then reposition the camera and film the posse approaching as a separate action. Or if they were feeling creative they would stage the sequence so the camera shows the riders in the foreground and the posse approaching in the background. <br /><br />Then again, what do I know? I\\'m only a child.'],\n",
       "      dtype=object)"
      ]
     },
     "execution_count": 4,
     "metadata": {},
     "output_type": "execute_result"
    }
   ],
   "source": [
    "train_x[:10]"
   ]
  },
  {
   "cell_type": "code",
   "execution_count": 5,
   "metadata": {},
   "outputs": [
    {
     "data": {
      "text/plain": [
       "array([1, 0, 1, 0, 0, 0, 1, 1, 1, 0], dtype=int64)"
      ]
     },
     "execution_count": 5,
     "metadata": {},
     "output_type": "execute_result"
    }
   ],
   "source": [
    "train_y[:10]"
   ]
  },
  {
   "cell_type": "code",
   "execution_count": 7,
   "metadata": {},
   "outputs": [
    {
     "data": {
      "text/plain": [
       "<tf.Tensor: shape=(3, 20), dtype=float32, numpy=\n",
       "array([[ 2.209591  , -2.7093675 ,  3.6802928 , -1.0291991 , -4.1671185 ,\n",
       "        -2.4566064 , -2.2519937 , -0.36589956,  1.9485804 , -3.1104462 ,\n",
       "        -2.4610963 ,  1.3139242 , -0.9161584 , -0.16625322, -3.723651  ,\n",
       "         1.8498232 ,  3.499562  , -1.2373022 , -2.8403084 , -1.213074  ],\n",
       "       [ 1.9055302 , -4.11395   ,  3.6038654 ,  0.28555924, -4.658998  ,\n",
       "        -5.5433393 , -3.2735848 ,  1.9235417 ,  3.8461034 ,  1.5882455 ,\n",
       "        -2.64167   ,  0.76057523, -0.14820506,  0.9115291 , -6.45758   ,\n",
       "         2.3990374 ,  5.0985413 , -3.2776263 , -3.2652326 , -1.2345369 ],\n",
       "       [ 3.6510668 , -4.7066135 ,  4.71003   , -1.7002777 , -3.7708545 ,\n",
       "        -3.709126  , -4.222776  ,  1.946586  ,  6.1182513 , -2.7392752 ,\n",
       "        -5.4384456 ,  2.7078724 , -2.1263676 , -0.7084146 , -5.893995  ,\n",
       "         3.1602864 ,  3.8389287 , -3.318196  , -5.1542974 , -2.4051712 ]],\n",
       "      dtype=float32)>"
      ]
     },
     "execution_count": 7,
     "metadata": {},
     "output_type": "execute_result"
    }
   ],
   "source": [
    "import tensorflow_hub as hub\n",
    "\n",
    "model = \"https://tfhub.dev/google/tf2-preview/gnews-swivel-20dim/1\"\n",
    "hub_layer = hub.KerasLayer(model, output_shape=[20], input_shape=[], dtype=tf.string, trainable=True)\n",
    "hub_layer(train_x[:3])"
   ]
  },
  {
   "cell_type": "code",
   "execution_count": 8,
   "metadata": {},
   "outputs": [
    {
     "name": "stdout",
     "output_type": "stream",
     "text": [
      "Model: \"sequential\"\n",
      "_________________________________________________________________\n",
      "Layer (type)                 Output Shape              Param #   \n",
      "=================================================================\n",
      "keras_layer (KerasLayer)     (None, 20)                400020    \n",
      "_________________________________________________________________\n",
      "dense (Dense)                (None, 16)                336       \n",
      "_________________________________________________________________\n",
      "dense_1 (Dense)              (None, 1)                 17        \n",
      "=================================================================\n",
      "Total params: 400,373\n",
      "Trainable params: 400,373\n",
      "Non-trainable params: 0\n",
      "_________________________________________________________________\n"
     ]
    }
   ],
   "source": [
    "import tensorflow.keras.layers as ly\n",
    "\n",
    "model = tf.keras.Sequential([\n",
    "    hub_layer,\n",
    "    ly.Dense(16, activation=\"relu\"),\n",
    "    ly.Dense(1)\n",
    "])\n",
    "\n",
    "model.summary()"
   ]
  },
  {
   "cell_type": "code",
   "execution_count": 9,
   "metadata": {},
   "outputs": [],
   "source": [
    "model.compile(optimizer=\"adam\", loss=tf.losses.BinaryCrossentropy(from_logits=True), metrics=[\"accuracy\"])"
   ]
  },
  {
   "cell_type": "code",
   "execution_count": 10,
   "metadata": {},
   "outputs": [],
   "source": [
    "x_val = train_x[:10000]\n",
    "p_x_train = train_x[10000:]\n",
    "\n",
    "y_val = train_y[:10000]\n",
    "p_y_train = train_y[10000:]"
   ]
  },
  {
   "cell_type": "code",
   "execution_count": 11,
   "metadata": {},
   "outputs": [
    {
     "name": "stdout",
     "output_type": "stream",
     "text": [
      "Epoch 1/40\n",
      "30/30 [==============================] - 4s 124ms/step - loss: 1.8806 - accuracy: 0.4950 - val_loss: 0.8985 - val_accuracy: 0.5117\n",
      "Epoch 2/40\n",
      "30/30 [==============================] - 3s 102ms/step - loss: 0.7912 - accuracy: 0.5025 - val_loss: 0.7495 - val_accuracy: 0.4982\n",
      "Epoch 3/40\n",
      "30/30 [==============================] - 3s 96ms/step - loss: 0.7391 - accuracy: 0.5039 - val_loss: 0.7288 - val_accuracy: 0.5000\n",
      "Epoch 4/40\n",
      "30/30 [==============================] - 3s 103ms/step - loss: 0.7253 - accuracy: 0.5059 - val_loss: 0.7206 - val_accuracy: 0.4984\n",
      "Epoch 5/40\n",
      "30/30 [==============================] - 3s 101ms/step - loss: 0.7134 - accuracy: 0.5125 - val_loss: 0.7156 - val_accuracy: 0.4969\n",
      "Epoch 6/40\n",
      "30/30 [==============================] - 3s 95ms/step - loss: 0.7058 - accuracy: 0.5153 - val_loss: 0.7097 - val_accuracy: 0.4967\n",
      "Epoch 7/40\n",
      "30/30 [==============================] - 3s 94ms/step - loss: 0.6981 - accuracy: 0.5175 - val_loss: 0.7061 - val_accuracy: 0.4953\n",
      "Epoch 8/40\n",
      "30/30 [==============================] - 3s 94ms/step - loss: 0.6922 - accuracy: 0.5172 - val_loss: 0.7035 - val_accuracy: 0.4953\n",
      "Epoch 9/40\n",
      "30/30 [==============================] - 3s 94ms/step - loss: 0.6881 - accuracy: 0.5179 - val_loss: 0.7022 - val_accuracy: 0.4952\n",
      "Epoch 10/40\n",
      "30/30 [==============================] - 3s 95ms/step - loss: 0.6841 - accuracy: 0.5186 - val_loss: 0.7022 - val_accuracy: 0.4938\n",
      "Epoch 11/40\n",
      "30/30 [==============================] - 3s 94ms/step - loss: 0.6807 - accuracy: 0.5181 - val_loss: 0.7018 - val_accuracy: 0.4934\n",
      "Epoch 12/40\n",
      "30/30 [==============================] - 3s 95ms/step - loss: 0.6772 - accuracy: 0.5200 - val_loss: 0.7014 - val_accuracy: 0.4936\n",
      "Epoch 13/40\n",
      "30/30 [==============================] - 3s 94ms/step - loss: 0.6736 - accuracy: 0.5215 - val_loss: 0.7045 - val_accuracy: 0.4925\n",
      "Epoch 14/40\n",
      "30/30 [==============================] - 3s 94ms/step - loss: 0.6701 - accuracy: 0.5215 - val_loss: 0.7023 - val_accuracy: 0.4927\n",
      "Epoch 15/40\n",
      "30/30 [==============================] - 3s 96ms/step - loss: 0.6659 - accuracy: 0.5266 - val_loss: 0.7037 - val_accuracy: 0.4923\n",
      "Epoch 16/40\n",
      "30/30 [==============================] - 3s 93ms/step - loss: 0.6613 - accuracy: 0.5321 - val_loss: 0.7046 - val_accuracy: 0.4925\n",
      "Epoch 17/40\n",
      "30/30 [==============================] - 3s 92ms/step - loss: 0.6564 - accuracy: 0.5329 - val_loss: 0.7046 - val_accuracy: 0.4928\n",
      "Epoch 18/40\n",
      "30/30 [==============================] - 3s 92ms/step - loss: 0.6504 - accuracy: 0.5417 - val_loss: 0.7073 - val_accuracy: 0.4919\n",
      "Epoch 19/40\n",
      "30/30 [==============================] - 3s 91ms/step - loss: 0.6448 - accuracy: 0.5467 - val_loss: 0.7073 - val_accuracy: 0.4929\n",
      "Epoch 20/40\n",
      "30/30 [==============================] - 3s 92ms/step - loss: 0.6376 - accuracy: 0.5552 - val_loss: 0.7089 - val_accuracy: 0.4946\n",
      "Epoch 21/40\n",
      "30/30 [==============================] - 3s 94ms/step - loss: 0.6292 - accuracy: 0.5702 - val_loss: 0.7108 - val_accuracy: 0.4979\n",
      "Epoch 22/40\n",
      "30/30 [==============================] - 3s 93ms/step - loss: 0.6200 - accuracy: 0.5840 - val_loss: 0.7140 - val_accuracy: 0.4978\n",
      "Epoch 23/40\n",
      "30/30 [==============================] - 3s 95ms/step - loss: 0.6103 - accuracy: 0.5997 - val_loss: 0.7204 - val_accuracy: 0.4953\n",
      "Epoch 24/40\n",
      "30/30 [==============================] - 3s 94ms/step - loss: 0.5974 - accuracy: 0.6235 - val_loss: 0.7255 - val_accuracy: 0.4989\n",
      "Epoch 25/40\n",
      "30/30 [==============================] - 3s 94ms/step - loss: 0.5832 - accuracy: 0.6396 - val_loss: 0.7328 - val_accuracy: 0.4992\n",
      "Epoch 26/40\n",
      "30/30 [==============================] - 3s 93ms/step - loss: 0.5671 - accuracy: 0.6674 - val_loss: 0.7440 - val_accuracy: 0.5002\n",
      "Epoch 27/40\n",
      "30/30 [==============================] - 3s 92ms/step - loss: 0.5505 - accuracy: 0.6887 - val_loss: 0.7588 - val_accuracy: 0.4990\n",
      "Epoch 28/40\n",
      "30/30 [==============================] - 3s 91ms/step - loss: 0.5335 - accuracy: 0.7052 - val_loss: 0.7702 - val_accuracy: 0.5032\n",
      "Epoch 29/40\n",
      "30/30 [==============================] - 3s 93ms/step - loss: 0.5154 - accuracy: 0.7201 - val_loss: 0.7860 - val_accuracy: 0.5006\n",
      "Epoch 30/40\n",
      "30/30 [==============================] - 3s 92ms/step - loss: 0.4987 - accuracy: 0.7337 - val_loss: 0.8091 - val_accuracy: 0.4994\n",
      "Epoch 31/40\n",
      "30/30 [==============================] - 3s 94ms/step - loss: 0.4808 - accuracy: 0.7511 - val_loss: 0.8176 - val_accuracy: 0.4980\n",
      "Epoch 32/40\n",
      "30/30 [==============================] - 3s 94ms/step - loss: 0.4645 - accuracy: 0.7647 - val_loss: 0.8379 - val_accuracy: 0.4984\n",
      "Epoch 33/40\n",
      "30/30 [==============================] - 3s 92ms/step - loss: 0.4493 - accuracy: 0.7737 - val_loss: 0.8540 - val_accuracy: 0.5005\n",
      "Epoch 34/40\n",
      "30/30 [==============================] - 3s 93ms/step - loss: 0.4332 - accuracy: 0.7876 - val_loss: 0.8731 - val_accuracy: 0.5009\n",
      "Epoch 35/40\n",
      "30/30 [==============================] - 3s 92ms/step - loss: 0.4189 - accuracy: 0.7955 - val_loss: 0.8910 - val_accuracy: 0.5015\n",
      "Epoch 36/40\n",
      "30/30 [==============================] - 3s 92ms/step - loss: 0.4053 - accuracy: 0.8060 - val_loss: 0.9145 - val_accuracy: 0.4999\n",
      "Epoch 37/40\n",
      "30/30 [==============================] - 3s 91ms/step - loss: 0.3916 - accuracy: 0.8148 - val_loss: 0.9361 - val_accuracy: 0.4991\n",
      "Epoch 38/40\n",
      "30/30 [==============================] - 3s 90ms/step - loss: 0.3800 - accuracy: 0.8226 - val_loss: 0.9658 - val_accuracy: 0.4985\n",
      "Epoch 39/40\n",
      "30/30 [==============================] - 3s 91ms/step - loss: 0.3667 - accuracy: 0.8294 - val_loss: 0.9729 - val_accuracy: 0.5042\n",
      "Epoch 40/40\n",
      "30/30 [==============================] - 3s 92ms/step - loss: 0.3553 - accuracy: 0.8379 - val_loss: 0.9966 - val_accuracy: 0.5021\n"
     ]
    }
   ],
   "source": [
    "history = model.fit(p_x_train, p_y_train, epochs=40, batch_size=512, validation_data=(x_val, y_val), verbose=1)"
   ]
  },
  {
   "cell_type": "code",
   "execution_count": 16,
   "metadata": {},
   "outputs": [
    {
     "data": {
      "image/png": "[encoded data removed]",
      "text/plain": [
       "<Figure size 432x288 with 1 Axes>"
      ]
     },
     "metadata": {
      "needs_background": "light"
     },
     "output_type": "display_data"
    }
   ],
   "source": [
    "ep = range(1, len(history.history[\"loss\"])+1)\n",
    "plt.plot(ep, history.history[\"loss\"], 'bo', label=\"Training loss\")\n",
    "plt.plot(ep, history.history[\"val_loss\"], 'b', label=\"Validation loss\")\n",
    "plt.title(\"Training and validation loss\")\n",
    "plt.xlabel(\"Epochs\")\n",
    "plt.ylabel(\"Loss\")\n",
    "plt.legend()\n",
    "\n",
    "plt.show()"
   ]
  },
  {
   "cell_type": "code",
   "execution_count": 17,
   "metadata": {},
   "outputs": [
    {
     "data": {
      "image/png": "[encoded data removed]",
      "text/plain": [
       "<Figure size 432x288 with 1 Axes>"
      ]
     },
     "metadata": {
      "needs_background": "light"
     },
     "output_type": "display_data"
    }
   ],
   "source": [
    "ep = range(1, len(history.history[\"accuracy\"])+1)\n",
    "plt.plot(ep, history.history[\"accuracy\"], 'bo', label=\"Training accuracy\")\n",
    "plt.plot(ep, history.history[\"val_accuracy\"], 'b', label=\"Validation accuracy\")\n",
    "plt.title(\"Training and validation accuracy\")\n",
    "plt.xlabel(\"Epochs\")\n",
    "plt.ylabel(\"accuracy\")\n",
    "plt.legend()\n",
    "\n",
    "plt.show()"
   ]
  },
  {
   "cell_type": "code",
   "execution_count": null,
   "metadata": {},
   "outputs": [],
   "source": []
  }
 ],
 "metadata": {
  "kernelspec": {
   "display_name": "Python 3",
   "language": "python",
   "name": "python3"
  },
  "language_info": {
   "codemirror_mode": {
    "name": "ipython",
    "version": 3
   },
   "file_extension": ".py",
   "mimetype": "text/x-python",
   "name": "python",
   "nbconvert_exporter": "python",
   "pygments_lexer": "ipython3",
   "version": "3.7.6"
  }
 },
 "nbformat": 4,
 "nbformat_minor": 4
}
