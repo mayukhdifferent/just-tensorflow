{
 "cells": [
  {
   "cell_type": "code",
   "execution_count": 1,
   "metadata": {},
   "outputs": [],
   "source": [
    "import string\n",
    "import numpy as np\n",
    "import os\n",
    "from PIL import Image\n",
    "from tensorflow.keras.applications.xception import Xception, preprocess_input\n",
    "from tensorflow.keras.preprocessing.image import load_img, img_to_array\n",
    "from tensorflow.keras.preprocessing.sequence import pad_sequences\n",
    "import tensorflow.keras.layers as ly\n",
    "from tensorflow.keras.models import Model, load_model"
   ]
  },
  {
   "cell_type": "code",
   "execution_count": 2,
   "metadata": {},
   "outputs": [],
   "source": [
    "text_path = \"data\\\\flickr8k\\\\text\\\\Flickr8k.token.txt\"\n",
    "imgs_path = \"data\\\\flickr8k\\\\img\""
   ]
  },
  {
   "cell_type": "code",
   "execution_count": 5,
   "metadata": {},
   "outputs": [],
   "source": [
    "with open(text_path, \"r\") as f:\n",
    "    doc = f.read()\n",
    "    doc = doc.split(\"\\n\")\n",
    "    descriptions = {}\n",
    "    for caption in doc[:-1]:\n",
    "        img, caption = caption.split(\"\\t\")\n",
    "        if img[:-2] not in descriptions:\n",
    "            descriptions[img[:-2]] = [ caption ]\n",
    "        else:\n",
    "            descriptions[img[:-2]].append(caption)"
   ]
  },
  {
   "cell_type": "code",
   "execution_count": 27,
   "metadata": {},
   "outputs": [],
   "source": [
    "captions = descriptions\n",
    "tab = str.maketrans(\"\", \"\", string.punctuation)\n",
    "for img, caps in captions.items():\n",
    "    for i, img_caption in enumerate(caps):\n",
    "        img_caption.replace(\"-\", \" \")\n",
    "        desc = img_caption.split()\n",
    "\n",
    "        # lowercasing\n",
    "        desc = [word.lower() for word in desc]\n",
    "        # removing punctuation\n",
    "        desc = [word.translate(tab) for word in desc]\n",
    "        # remove hanging 's and a\n",
    "        desc = [word for word in desc if len(word)>1]\n",
    "        # remove tokens with numbers in them\n",
    "        desc = [word for word in desc if word.isdigit()]\n",
    "        # convert back to string\n",
    "        img_captions = \"\".join(desc)\n",
    "        captions[img][i] = img_captions\n",
    "clear_descriptions = captions"
   ]
  },
  {
   "cell_type": "code",
   "execution_count": 28,
   "metadata": {},
   "outputs": [],
   "source": [
    "vocabulary = set()\n",
    "for key in clear_descriptions.keys():\n",
    "    [vocabulary.update(d.split()) for d in clear_descriptions[key]]"
   ]
  },
  {
   "cell_type": "code",
   "execution_count": 29,
   "metadata": {},
   "outputs": [],
   "source": [
    "with open(\"descriptions.txt\", \"w\") as f:\n",
    "    lines = []\n",
    "    for key, desc_list in descriptions.items():\n",
    "        for desc in desc_list:\n",
    "            lines.append(key + \"\\t\" + desc)\n",
    "        data = \"\\n\".join(lines)\n",
    "        f.write(data)"
   ]
  },
  {
   "cell_type": "code",
   "execution_count": 31,
   "metadata": {},
   "outputs": [],
   "source": [
    "model = Xception(include_top=False, pooling=\"avg\")\n",
    "features = {}\n",
    "for img in os.listdir(imgs_path):\n",
    "    filename = f\"{imgs_path}\\\\{img}\"\n",
    "    image = Image.open(filename)\n",
    "    image = image.resize((299, 299))\n",
    "    image = np.expand_dims(image, axis=0)\n",
    "    \n",
    "    image = image / 127.5\n",
    "    image = image - 1.0\n",
    "    \n",
    "    feature = model.predict(image)\n",
    "    features[img] = feature"
   ]
  },
  {
   "cell_type": "code",
   "execution_count": 33,
   "metadata": {},
   "outputs": [],
   "source": [
    "import pickle\n",
    "\n",
    "pickle.dump(features, open(\"features.p\", \"wb\"))"
   ]
  },
  {
   "cell_type": "code",
   "execution_count": null,
   "metadata": {},
   "outputs": [],
   "source": []
  }
 ],
 "metadata": {
  "kernelspec": {
   "display_name": "Python 3",
   "language": "python",
   "name": "python3"
  },
  "language_info": {
   "codemirror_mode": {
    "name": "ipython",
    "version": 3
   },
   "file_extension": ".py",
   "mimetype": "text/x-python",
   "name": "python",
   "nbconvert_exporter": "python",
   "pygments_lexer": "ipython3",
   "version": "3.7.6"
  }
 },
 "nbformat": 4,
 "nbformat_minor": 4
}
