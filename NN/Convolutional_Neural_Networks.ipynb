{
 "cells": [
  {
   "cell_type": "code",
   "execution_count": null,
   "metadata": {},
   "outputs": [],
   "source": [
    "# The basic CNN structure is as follows: \n",
    "# Convolution -> Pooling -> Convolution -> Pooling -> Fully Connected Layer -> Output\n",
    "\n",
    "# Convolution is the act of taking the original data, and creating feature maps from it.\n",
    "# Pooling is down-sampling, most often in the form of \"max-pooling,\" where we select a region,\n",
    "# and then take the maximum value in that region, and that becomes the new value for the entire region."
   ]
  },
  {
   "cell_type": "code",
   "execution_count": 2,
   "metadata": {},
   "outputs": [],
   "source": [
    "import tensorflow as tf\n",
    "from tensorflow.keras.models import Sequential\n",
    "from tensorflow.keras.layers import Dense, Flatten, Activation\n",
    "from tensorflow.keras.layers import Conv2D, MaxPooling2D\n",
    "import pickle\n",
    "import numpy as np\n",
    "\n",
    "pickle_in = open(\"X.pickle\", \"rb\")\n",
    "X = pickle.load(pickle_in)\n",
    "\n",
    "pickle_in = open(\"y.pickle\", \"rb\")\n",
    "y = pickle.load(pickle_in)\n",
    "\n",
    "y = np.array(y)"
   ]
  },
  {
   "cell_type": "code",
   "execution_count": 3,
   "metadata": {},
   "outputs": [],
   "source": [
    "from tensorflow.keras.callbacks import TensorBoard\n",
    "import datetime, os\n",
    "\n",
    "X = X/255.0"
   ]
  },
  {
   "cell_type": "code",
   "execution_count": 4,
   "metadata": {},
   "outputs": [
    {
     "name": "stdout",
     "output_type": "stream",
     "text": [
      "0-64-3\n",
      "WARNING:tensorflow:From R:\\Work\\Anaconda\\lib\\site-packages\\tensorflow_core\\python\\ops\\resource_variable_ops.py:1630: calling BaseResourceVariable.__init__ (from tensorflow.python.ops.resource_variable_ops) with constraint is deprecated and will be removed in a future version.\n",
      "Instructions for updating:\n",
      "If using Keras pass *_constraint arguments to layers.\n",
      "WARNING:tensorflow:From R:\\Work\\Anaconda\\lib\\site-packages\\tensorflow_core\\python\\ops\\nn_impl.py:183: where (from tensorflow.python.ops.array_ops) is deprecated and will be removed in a future version.\n",
      "Instructions for updating:\n",
      "Use tf.where in 2.0, which has the same broadcast rule as np.where\n",
      "Train on 17462 samples, validate on 7484 samples\n",
      "Epoch 1/10\n",
      "17462/17462 [==============================] - 307s 18ms/sample - loss: 0.6354 - acc: 0.6245 - val_loss: 0.5480 - val_acc: 0.7201\n",
      "Epoch 2/10\n",
      "17462/17462 [==============================] - 330s 19ms/sample - loss: 0.5219 - acc: 0.7386 - val_loss: 0.4826 - val_acc: 0.7667\n",
      "Epoch 3/10\n",
      "17462/17462 [==============================] - 333s 19ms/sample - loss: 0.4610 - acc: 0.7812 - val_loss: 0.4800 - val_acc: 0.7773\n",
      "Epoch 4/10\n",
      "17462/17462 [==============================] - 314s 18ms/sample - loss: 0.4188 - acc: 0.8069 - val_loss: 0.4169 - val_acc: 0.8044\n",
      "Epoch 5/10\n",
      "17462/17462 [==============================] - 318s 18ms/sample - loss: 0.3853 - acc: 0.8260 - val_loss: 0.3836 - val_acc: 0.8312\n",
      "Epoch 6/10\n",
      "17462/17462 [==============================] - 312s 18ms/sample - loss: 0.3501 - acc: 0.8443 - val_loss: 0.3840 - val_acc: 0.8371\n",
      "Epoch 7/10\n",
      "17462/17462 [==============================] - 313s 18ms/sample - loss: 0.3133 - acc: 0.8653 - val_loss: 0.3614 - val_acc: 0.8431\n",
      "Epoch 8/10\n",
      "17462/17462 [==============================] - 317s 18ms/sample - loss: 0.2913 - acc: 0.8737 - val_loss: 0.3463 - val_acc: 0.8510\n",
      "Epoch 9/10\n",
      "17462/17462 [==============================] - 2872s 164ms/sample - loss: 0.2614 - acc: 0.8902 - val_loss: 0.3547 - val_acc: 0.8425\n",
      "Epoch 10/10\n",
      "17462/17462 [==============================] - 331s 19ms/sample - loss: 0.2431 - acc: 0.8985 - val_loss: 0.4448 - val_acc: 0.8040\n"
     ]
    }
   ],
   "source": [
    "import time\n",
    "\n",
    "dense_layers = [0]\n",
    "layer_sizes = [64]\n",
    "conv_layers = [3]\n",
    "\n",
    "for dense_layer in dense_layers:\n",
    "    for layer_size in layer_sizes:\n",
    "        for conv_layer in conv_layers:\n",
    "            NAME = \"0-64-3\".format(conv_layer, layer_size, dense_layer, int(time.time()))\n",
    "            print(NAME)\n",
    "            \n",
    "            model = Sequential()\n",
    "\n",
    "            model.add(Conv2D(layer_size, (3, 3), input_shape=X.shape[1:]))\n",
    "            model.add(Activation(\"relu\"))\n",
    "            model.add(MaxPooling2D(pool_size=(2, 2)))\n",
    "            \n",
    "            for i in range(conv_layer-1):\n",
    "                model.add(Conv2D(layer_size, (3, 3)))\n",
    "                model.add(Activation(\"relu\"))\n",
    "                model.add(MaxPooling2D(pool_size=(2, 2)))\n",
    "            \n",
    "            model.add(Flatten())\n",
    "            \n",
    "            for i in range(dense_layer):\n",
    "                model.add(Dense(layer_size))\n",
    "                model.add(Activation(\"relu\"))\n",
    "            \n",
    "            model.add(Dense(1))\n",
    "            model.add(Activation('sigmoid'))\n",
    "            \n",
    "            tensorboard = TensorBoard(log_dir=\"logs/{}\".format(NAME), profile_batch = 100000000)\n",
    "\n",
    "            model.compile(loss=\"binary_crossentropy\",\n",
    "                          optimizer=\"adam\",\n",
    "                          metrics=['accuracy'])\n",
    "            \n",
    "            model.fit(X, y, epochs=10, validation_split=0.3, callbacks=[tensorboard])\n",
    "    \n",
    "    model.save('0-64-3-CNN.model')"
   ]
  },
  {
   "cell_type": "code",
   "execution_count": null,
   "metadata": {},
   "outputs": [],
   "source": []
  }
 ],
 "metadata": {
  "kernelspec": {
   "display_name": "Python 3",
   "language": "python",
   "name": "python3"
  },
  "language_info": {
   "codemirror_mode": {
    "name": "ipython",
    "version": 3
   },
   "file_extension": ".py",
   "mimetype": "text/x-python",
   "name": "python",
   "nbconvert_exporter": "python",
   "pygments_lexer": "ipython3",
   "version": "3.7.4"
  }
 },
 "nbformat": 4,
 "nbformat_minor": 2
}
